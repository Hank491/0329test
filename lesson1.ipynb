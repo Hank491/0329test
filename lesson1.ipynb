{
  "nbformat": 4,
  "nbformat_minor": 0,
  "metadata": {
    "colab": {
      "provenance": [],
      "authorship_tag": "ABX9TyNRFOLxzj6Bt2gfKRTKo1f9",
      "include_colab_link": true
    },
    "kernelspec": {
      "name": "python3",
      "display_name": "Python 3"
    },
    "language_info": {
      "name": "python"
    }
  },
  "cells": [
    {
      "cell_type": "markdown",
      "metadata": {
        "id": "view-in-github",
        "colab_type": "text"
      },
      "source": [
        "<a href=\"https://colab.research.google.com/github/Hank491/0329test/blob/main/lesson1.ipynb\" target=\"_parent\"><img src=\"https://colab.research.google.com/assets/colab-badge.svg\" alt=\"Open In Colab\"/></a>"
      ]
    },
    {
      "cell_type": "markdown",
      "source": [
        "# 標1\n",
        "## 標2\n",
        "## 標3\n",
        "#### 標4"
      ],
      "metadata": {
        "id": "ovpwrx70LW3o"
      }
    },
    {
      "cell_type": "code",
      "execution_count": 2,
      "metadata": {
        "colab": {
          "base_uri": "https://localhost:8080/"
        },
        "id": "0hKkxWbvCIep",
        "outputId": "5c5b8f45-00f2-4474-bdf0-d9fcd496ecf5"
      },
      "outputs": [
        {
          "output_type": "stream",
          "name": "stdout",
          "text": [
            "hi1\n",
            "80\n"
          ]
        }
      ],
      "source": [
        "print(\"hi1\")\n",
        "a=80\n",
        "print(a)"
      ]
    }
  ]
}